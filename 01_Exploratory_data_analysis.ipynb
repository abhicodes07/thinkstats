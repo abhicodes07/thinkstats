{
 "cells": [
  {
   "cell_type": "markdown",
   "id": "c2cc9efd-ed6a-4d96-a4e8-e434264d3ab1",
   "metadata": {},
   "source": [
    "# Exploratory Data Analysis"
   ]
  },
  {
   "cell_type": "code",
   "execution_count": 1,
   "id": "e1ffe3c1-7adb-4d8e-888b-9146674a4106",
   "metadata": {},
   "outputs": [],
   "source": [
    "from os.path import basename, exists\n",
    "\n",
    "def download(url):\n",
    "    filename = basename(url)\n",
    "    if not exists(filename):\n",
    "        from urllib.request import urlretrieve\n",
    "\n",
    "        local, _ = urlretrieve(url, filename)\n",
    "        print(f\"Successfully Downloaded {local}\")\n",
    "\n",
    "download(\"https://github.com/AllenDowney/ThinkStats/raw/v3/nb/thinkstats.py\")"
   ]
  },
  {
   "cell_type": "code",
   "execution_count": 2,
   "id": "a82fb122-56f6-4749-bc31-53095b70a482",
   "metadata": {
    "scrolled": true
   },
   "outputs": [],
   "source": [
    "# An \"empirical distribution\" \n",
    "# describes the observed data's probability distribution\n",
    "try:\n",
    "    import empiricaldist\n",
    "except ImportError:\n",
    "    !pip install empiricaldist"
   ]
  },
  {
   "cell_type": "code",
   "execution_count": 3,
   "id": "5aea8511-883a-4a34-b1fc-1be074c0e3c9",
   "metadata": {},
   "outputs": [],
   "source": [
    "import numpy as np\n",
    "import pandas as pd\n",
    "import matplotlib.pyplot as plt\n",
    "\n",
    "from IPython.display import HTML\n",
    "from thinkstats import decorate"
   ]
  },
  {
   "cell_type": "markdown",
   "id": "ad9701dd-45f7-4c99-95e7-82b0d5f166a2",
   "metadata": {},
   "source": [
    "## 1. Evidence"
   ]
  },
  {
   "cell_type": "code",
   "execution_count": 4,
   "id": "44aba77c-cba0-44fb-aa07-3e9d46f2abb6",
   "metadata": {},
   "outputs": [],
   "source": [
    "download(\"https://github.com/AllenDowney/ThinkStats/raw/v3/data/2002FemPreg.dct\")\n",
    "download(\"https://github.com/AllenDowney/ThinkStats/raw/v3/data/2002FemPreg.dat.gz\")"
   ]
  },
  {
   "cell_type": "code",
   "execution_count": 5,
   "id": "65835783-89b5-4d67-ab24-f0576f78238c",
   "metadata": {},
   "outputs": [],
   "source": [
    "try:\n",
    "    import statadict\n",
    "except ImportError:\n",
    "    !pip install statadict"
   ]
  },
  {
   "cell_type": "code",
   "execution_count": 6,
   "id": "7afbd4ca-8e47-4546-ba1b-788a4f1702c1",
   "metadata": {},
   "outputs": [],
   "source": [
    "dct_file = \"2002FemPreg.dct\"\n",
    "dat_file = \"2002FemPreg.dat.gz\""
   ]
  },
  {
   "cell_type": "markdown",
   "id": "2032a9f9-0787-4143-8233-6be0c0fb522d",
   "metadata": {},
   "source": [
    "## 1.2 Reading the data"
   ]
  },
  {
   "cell_type": "markdown",
   "id": "bc10bf0a-2f90-4d0a-8bf0-96799fd5e9ae",
   "metadata": {},
   "source": [
    "- Define a function that reads the from the above two files.\n",
    "- The data format in these files is compatible with a statistical software package called stata"
   ]
  },
  {
   "cell_type": "code",
   "execution_count": 7,
   "id": "35bf30a4-9cca-4f6e-b7ec-8a079fa60c4d",
   "metadata": {},
   "outputs": [],
   "source": [
    "from statadict import parse_stata_dict\n",
    "\n",
    "# read the data from the files ending with .dct extension\n",
    "def read_stata(dct_file, dat_file):\n",
    "    # read stata dictonary file\n",
    "    stata_dict = parse_stata_dict(dct_file)\n",
    "\n",
    "    # response\n",
    "    resp = pd.read_fwf(\n",
    "        dat_file,\n",
    "        names=stata_dict.names,\n",
    "        colspecs=stata_dict.colspecs,\n",
    "        compression=\"gzip\",\n",
    "    )\n",
    "    return resp"
   ]
  },
  {
   "cell_type": "code",
   "execution_count": 8,
   "id": "7bcd7fcc-8cb3-4aa2-ae3a-b49f341bfae0",
   "metadata": {},
   "outputs": [],
   "source": [
    "preg = read_stata(dct_file, dat_file)"
   ]
  },
  {
   "cell_type": "markdown",
   "id": "df70413e-0d2f-4fc9-afe8-924d58f8fb2e",
   "metadata": {},
   "source": [
    "- The above function returns a `DataFrame` which containes a row for each pregnancy reported by a respondant and a column for each variable"
   ]
  },
  {
   "cell_type": "code",
   "execution_count": 9,
   "id": "07b4282e-1d79-425b-9621-d0fe9c8cc5e7",
   "metadata": {},
   "outputs": [
    {
     "data": {
      "text/html": [
       "<div>\n",
       "<style scoped>\n",
       "    .dataframe tbody tr th:only-of-type {\n",
       "        vertical-align: middle;\n",
       "    }\n",
       "\n",
       "    .dataframe tbody tr th {\n",
       "        vertical-align: top;\n",
       "    }\n",
       "\n",
       "    .dataframe thead th {\n",
       "        text-align: right;\n",
       "    }\n",
       "</style>\n",
       "<table border=\"1\" class=\"dataframe\">\n",
       "  <thead>\n",
       "    <tr style=\"text-align: right;\">\n",
       "      <th></th>\n",
       "      <th>caseid</th>\n",
       "      <th>pregordr</th>\n",
       "      <th>howpreg_n</th>\n",
       "      <th>howpreg_p</th>\n",
       "      <th>moscurrp</th>\n",
       "      <th>nowprgdk</th>\n",
       "      <th>pregend1</th>\n",
       "      <th>pregend2</th>\n",
       "      <th>nbrnaliv</th>\n",
       "      <th>multbrth</th>\n",
       "      <th>...</th>\n",
       "      <th>poverty_i</th>\n",
       "      <th>laborfor_i</th>\n",
       "      <th>religion_i</th>\n",
       "      <th>metro_i</th>\n",
       "      <th>basewgt</th>\n",
       "      <th>adj_mod_basewgt</th>\n",
       "      <th>finalwgt</th>\n",
       "      <th>secu_p</th>\n",
       "      <th>sest</th>\n",
       "      <th>cmintvw</th>\n",
       "    </tr>\n",
       "  </thead>\n",
       "  <tbody>\n",
       "    <tr>\n",
       "      <th>0</th>\n",
       "      <td>1</td>\n",
       "      <td>1</td>\n",
       "      <td>NaN</td>\n",
       "      <td>NaN</td>\n",
       "      <td>NaN</td>\n",
       "      <td>NaN</td>\n",
       "      <td>6.0</td>\n",
       "      <td>NaN</td>\n",
       "      <td>1.0</td>\n",
       "      <td>NaN</td>\n",
       "      <td>...</td>\n",
       "      <td>0</td>\n",
       "      <td>0</td>\n",
       "      <td>0</td>\n",
       "      <td>0</td>\n",
       "      <td>3410.389399</td>\n",
       "      <td>3869.349602</td>\n",
       "      <td>6448.271112</td>\n",
       "      <td>2</td>\n",
       "      <td>9</td>\n",
       "      <td>1231</td>\n",
       "    </tr>\n",
       "    <tr>\n",
       "      <th>1</th>\n",
       "      <td>1</td>\n",
       "      <td>2</td>\n",
       "      <td>NaN</td>\n",
       "      <td>NaN</td>\n",
       "      <td>NaN</td>\n",
       "      <td>NaN</td>\n",
       "      <td>6.0</td>\n",
       "      <td>NaN</td>\n",
       "      <td>1.0</td>\n",
       "      <td>NaN</td>\n",
       "      <td>...</td>\n",
       "      <td>0</td>\n",
       "      <td>0</td>\n",
       "      <td>0</td>\n",
       "      <td>0</td>\n",
       "      <td>3410.389399</td>\n",
       "      <td>3869.349602</td>\n",
       "      <td>6448.271112</td>\n",
       "      <td>2</td>\n",
       "      <td>9</td>\n",
       "      <td>1231</td>\n",
       "    </tr>\n",
       "    <tr>\n",
       "      <th>2</th>\n",
       "      <td>2</td>\n",
       "      <td>1</td>\n",
       "      <td>NaN</td>\n",
       "      <td>NaN</td>\n",
       "      <td>NaN</td>\n",
       "      <td>NaN</td>\n",
       "      <td>5.0</td>\n",
       "      <td>NaN</td>\n",
       "      <td>3.0</td>\n",
       "      <td>5.0</td>\n",
       "      <td>...</td>\n",
       "      <td>0</td>\n",
       "      <td>0</td>\n",
       "      <td>0</td>\n",
       "      <td>0</td>\n",
       "      <td>7226.301740</td>\n",
       "      <td>8567.549110</td>\n",
       "      <td>12999.542264</td>\n",
       "      <td>2</td>\n",
       "      <td>12</td>\n",
       "      <td>1231</td>\n",
       "    </tr>\n",
       "    <tr>\n",
       "      <th>3</th>\n",
       "      <td>2</td>\n",
       "      <td>2</td>\n",
       "      <td>NaN</td>\n",
       "      <td>NaN</td>\n",
       "      <td>NaN</td>\n",
       "      <td>NaN</td>\n",
       "      <td>6.0</td>\n",
       "      <td>NaN</td>\n",
       "      <td>1.0</td>\n",
       "      <td>NaN</td>\n",
       "      <td>...</td>\n",
       "      <td>0</td>\n",
       "      <td>0</td>\n",
       "      <td>0</td>\n",
       "      <td>0</td>\n",
       "      <td>7226.301740</td>\n",
       "      <td>8567.549110</td>\n",
       "      <td>12999.542264</td>\n",
       "      <td>2</td>\n",
       "      <td>12</td>\n",
       "      <td>1231</td>\n",
       "    </tr>\n",
       "    <tr>\n",
       "      <th>4</th>\n",
       "      <td>2</td>\n",
       "      <td>3</td>\n",
       "      <td>NaN</td>\n",
       "      <td>NaN</td>\n",
       "      <td>NaN</td>\n",
       "      <td>NaN</td>\n",
       "      <td>6.0</td>\n",
       "      <td>NaN</td>\n",
       "      <td>1.0</td>\n",
       "      <td>NaN</td>\n",
       "      <td>...</td>\n",
       "      <td>0</td>\n",
       "      <td>0</td>\n",
       "      <td>0</td>\n",
       "      <td>0</td>\n",
       "      <td>7226.301740</td>\n",
       "      <td>8567.549110</td>\n",
       "      <td>12999.542264</td>\n",
       "      <td>2</td>\n",
       "      <td>12</td>\n",
       "      <td>1231</td>\n",
       "    </tr>\n",
       "  </tbody>\n",
       "</table>\n",
       "<p>5 rows × 243 columns</p>\n",
       "</div>"
      ],
      "text/plain": [
       "   caseid  pregordr  howpreg_n  howpreg_p  moscurrp  nowprgdk  pregend1  \\\n",
       "0       1         1        NaN        NaN       NaN       NaN       6.0   \n",
       "1       1         2        NaN        NaN       NaN       NaN       6.0   \n",
       "2       2         1        NaN        NaN       NaN       NaN       5.0   \n",
       "3       2         2        NaN        NaN       NaN       NaN       6.0   \n",
       "4       2         3        NaN        NaN       NaN       NaN       6.0   \n",
       "\n",
       "   pregend2  nbrnaliv  multbrth  ...  poverty_i  laborfor_i  religion_i  \\\n",
       "0       NaN       1.0       NaN  ...          0           0           0   \n",
       "1       NaN       1.0       NaN  ...          0           0           0   \n",
       "2       NaN       3.0       5.0  ...          0           0           0   \n",
       "3       NaN       1.0       NaN  ...          0           0           0   \n",
       "4       NaN       1.0       NaN  ...          0           0           0   \n",
       "\n",
       "   metro_i      basewgt  adj_mod_basewgt      finalwgt  secu_p  sest  cmintvw  \n",
       "0        0  3410.389399      3869.349602   6448.271112       2     9     1231  \n",
       "1        0  3410.389399      3869.349602   6448.271112       2     9     1231  \n",
       "2        0  7226.301740      8567.549110  12999.542264       2    12     1231  \n",
       "3        0  7226.301740      8567.549110  12999.542264       2    12     1231  \n",
       "4        0  7226.301740      8567.549110  12999.542264       2    12     1231  \n",
       "\n",
       "[5 rows x 243 columns]"
      ]
     },
     "execution_count": 9,
     "metadata": {},
     "output_type": "execute_result"
    }
   ],
   "source": [
    "preg.head()"
   ]
  },
  {
   "cell_type": "code",
   "execution_count": 10,
   "id": "4dc8c568-7653-45ce-ab22-ab0111dea471",
   "metadata": {},
   "outputs": [
    {
     "data": {
      "text/plain": [
       "(13593, 243)"
      ]
     },
     "execution_count": 10,
     "metadata": {},
     "output_type": "execute_result"
    }
   ],
   "source": [
    "preg.shape"
   ]
  },
  {
   "cell_type": "markdown",
   "id": "7ad9c561-5039-4956-9d8d-47c939b753d8",
   "metadata": {},
   "source": [
    "- Variables in the dataframe as columns"
   ]
  },
  {
   "cell_type": "code",
   "execution_count": 11,
   "id": "3b4233f0-049c-43f1-907d-1dd670525106",
   "metadata": {},
   "outputs": [
    {
     "data": {
      "text/plain": [
       "Index(['caseid', 'pregordr', 'howpreg_n', 'howpreg_p', 'moscurrp', 'nowprgdk',\n",
       "       'pregend1', 'pregend2', 'nbrnaliv', 'multbrth',\n",
       "       ...\n",
       "       'poverty_i', 'laborfor_i', 'religion_i', 'metro_i', 'basewgt',\n",
       "       'adj_mod_basewgt', 'finalwgt', 'secu_p', 'sest', 'cmintvw'],\n",
       "      dtype='object', length=243)"
      ]
     },
     "execution_count": 11,
     "metadata": {},
     "output_type": "execute_result"
    }
   ],
   "source": [
    "preg.columns"
   ]
  },
  {
   "cell_type": "markdown",
   "id": "9118a3cd-ed1a-49dc-af1d-dca18959603e",
   "metadata": {},
   "source": [
    "- Access a particular data column"
   ]
  },
  {
   "cell_type": "code",
   "execution_count": 12,
   "id": "239365ce-a442-41b6-921b-061325ebcdc0",
   "metadata": {},
   "outputs": [
    {
     "data": {
      "text/plain": [
       "pandas.core.series.Series"
      ]
     },
     "execution_count": 12,
     "metadata": {},
     "output_type": "execute_result"
    }
   ],
   "source": [
    "pregordr = preg[\"pregordr\"]\n",
    "type(pregordr)"
   ]
  },
  {
   "cell_type": "code",
   "execution_count": 13,
   "id": "a5b89069-8222-4a83-bc3a-4ff9f872ea81",
   "metadata": {},
   "outputs": [
    {
     "data": {
      "text/plain": [
       "0    1\n",
       "1    2\n",
       "2    1\n",
       "3    2\n",
       "4    3\n",
       "Name: pregordr, dtype: int64"
      ]
     },
     "execution_count": 13,
     "metadata": {},
     "output_type": "execute_result"
    }
   ],
   "source": [
    "pregordr.head()"
   ]
  },
  {
   "cell_type": "markdown",
   "id": "4e0735e2-53f1-4f22-8ee7-dde1103670b3",
   "metadata": {},
   "source": [
    "#### Some of the varaibles(columns) from the preganancy dataset and their uses\n",
    "- `caseid` : int id of the respondant.\n",
    "- `pregordr`: pregnancy serial number: the code for a respondant(participator in a survey) first pregnancy is 1, for the second is 2 and so on.\n",
    "- `preglngth`: int duration of the pregnancy in weeks.\n",
    "- `outcome`: int code for the outcome of the pregnancy: 1 for live birth.\n",
    "- `birthwgt_lb` and `birthwgt_oz`: pound and ounces birth weight of baby\n",
    "- `ageprg`: mothers age\n",
    "- `finalwgt`: statistical weight associated with the respondant. (float-value) "
   ]
  },
  {
   "cell_type": "markdown",
   "id": "88ed5252-d5ec-4863-a901-df28e5234237",
   "metadata": {},
   "source": [
    "## 1.4 Validation\n",
    "Compute statistics and validate data based on the published table in the book."
   ]
  },
  {
   "cell_type": "code",
   "execution_count": 14,
   "id": "ad868e52-f045-4884-86ad-fbc15ce7767f",
   "metadata": {},
   "outputs": [
    {
     "data": {
      "text/plain": [
       "0    1\n",
       "1    1\n",
       "2    1\n",
       "3    1\n",
       "4    1\n",
       "Name: outcome, dtype: int64"
      ]
     },
     "execution_count": 14,
     "metadata": {},
     "output_type": "execute_result"
    }
   ],
   "source": [
    "preg[\"outcome\"].head()"
   ]
  },
  {
   "cell_type": "markdown",
   "id": "2369aaab-8be8-480e-a28f-12fb9bf1b0e0",
   "metadata": {},
   "source": [
    "- The `value_counts` method counts the number of times each value appears, and `sort_index` which sorts the results according to the values in the `Index`"
   ]
  },
  {
   "cell_type": "markdown",
   "id": "a63fff67-3627-4063-ace5-c78866f75183",
   "metadata": {},
   "source": [
    "-  Check the total outcomes of pregnancy."
   ]
  },
  {
   "cell_type": "code",
   "execution_count": 15,
   "id": "7ee83351-2e9d-4fc9-b8fe-37fc4d83d306",
   "metadata": {},
   "outputs": [
    {
     "data": {
      "text/plain": [
       "outcome\n",
       "1    9148\n",
       "2    1862\n",
       "3     120\n",
       "4    1921\n",
       "5     190\n",
       "6     352\n",
       "Name: count, dtype: int64"
      ]
     },
     "execution_count": 15,
     "metadata": {},
     "output_type": "execute_result"
    }
   ],
   "source": [
    "preg[\"outcome\"].value_counts().sort_index()"
   ]
  },
  {
   "cell_type": "markdown",
   "id": "c94691ea-fc8c-4800-8dde-b8810b7a6b4f",
   "metadata": {},
   "source": [
    "- Compare brith weight with publish table."
   ]
  },
  {
   "cell_type": "code",
   "execution_count": 16,
   "id": "74b49481-983d-4e25-bfc6-b49e91368a6a",
   "metadata": {},
   "outputs": [
    {
     "data": {
      "text/plain": [
       "birthwgt_lb\n",
       "0.0        8\n",
       "1.0       40\n",
       "2.0       53\n",
       "3.0       98\n",
       "4.0      229\n",
       "5.0      697\n",
       "6.0     2223\n",
       "7.0     3049\n",
       "8.0     1889\n",
       "9.0      623\n",
       "10.0     132\n",
       "11.0      26\n",
       "12.0      10\n",
       "13.0       3\n",
       "14.0       3\n",
       "15.0       1\n",
       "51.0       1\n",
       "97.0       1\n",
       "98.0       1\n",
       "99.0      57\n",
       "NaN     4449\n",
       "Name: count, dtype: int64"
      ]
     },
     "execution_count": 16,
     "metadata": {},
     "output_type": "execute_result"
    }
   ],
   "source": [
    "# the dropna arg means, do not ignore values thar are NaN\n",
    "counts = preg[\"birthwgt_lb\"].value_counts(dropna=False).sort_index()\n",
    "counts"
   ]
  },
  {
   "cell_type": "markdown",
   "id": "f562eb2a-9553-4c50-8243-f780fe3708b4",
   "metadata": {},
   "source": [
    "- Check the counts for the weight range from 0 to 5"
   ]
  },
  {
   "cell_type": "code",
   "execution_count": 17,
   "id": "b93bce09-999e-496a-ad0d-b480ea3eeff7",
   "metadata": {},
   "outputs": [
    {
     "data": {
      "text/plain": [
       "birthwgt_lb\n",
       "0.0      8\n",
       "1.0     40\n",
       "2.0     53\n",
       "3.0     98\n",
       "4.0    229\n",
       "5.0    697\n",
       "Name: count, dtype: int64"
      ]
     },
     "execution_count": 17,
     "metadata": {},
     "output_type": "execute_result"
    }
   ],
   "source": [
    "counts.loc[0:5]"
   ]
  },
  {
   "cell_type": "code",
   "execution_count": 18,
   "id": "ebd15f28-d8ba-4b1c-a4c2-6eaa4ed32a08",
   "metadata": {},
   "outputs": [
    {
     "data": {
      "text/plain": [
       "np.int64(1125)"
      ]
     },
     "execution_count": 18,
     "metadata": {},
     "output_type": "execute_result"
    }
   ],
   "source": [
    "counts.loc[0:5].sum()"
   ]
  },
  {
   "cell_type": "markdown",
   "id": "af9d448d-37ad-4e61-8ea8-d3413b4d6947",
   "metadata": {},
   "source": [
    "#### DATA CLEANING\n",
    "- **Handle Missing Data**\n",
    "The values 97, 98, 99 represent cases where the birth weight is unknown so replace these values with NaN. and also replace the 51 pounds as it is wrong. "
   ]
  },
  {
   "cell_type": "code",
   "execution_count": 19,
   "id": "287eec13-e333-40d4-b0db-4fb2945169bd",
   "metadata": {},
   "outputs": [],
   "source": [
    "preg[\"birthwgt_lb\"] = preg[\"birthwgt_lb\"].replace([51, 97, 98, 99], np.nan)"
   ]
  },
  {
   "cell_type": "markdown",
   "id": "60a7bd75-1d27-4375-8eaa-504cba3acf47",
   "metadata": {},
   "source": [
    "## 1.5 Transformation\n",
    "As a part of data cleaning, convert data into different formats, and perform other calculations."
   ]
  },
  {
   "cell_type": "markdown",
   "id": "a5a71e42-5fbc-49cb-a94e-e2943853f29f",
   "metadata": {},
   "source": [
    "- `agepreg` contains the mother's age at the end of the pregnancy. It is integer number for centiyears (hundredths fo a year). we can use `mean` to compute its' average."
   ]
  },
  {
   "cell_type": "code",
   "execution_count": 20,
   "id": "d5225f32-a6ce-4aa5-9ff0-5d69cc0a9957",
   "metadata": {},
   "outputs": [
    {
     "data": {
      "text/plain": [
       "0    3316.0\n",
       "1    3925.0\n",
       "2    1433.0\n",
       "3    1783.0\n",
       "4    1833.0\n",
       "Name: agepreg, dtype: float64"
      ]
     },
     "execution_count": 20,
     "metadata": {},
     "output_type": "execute_result"
    }
   ],
   "source": [
    "preg[\"agepreg\"].head()"
   ]
  },
  {
   "cell_type": "code",
   "execution_count": 21,
   "id": "fecc7089-3484-4b5c-985d-1d5395a57e59",
   "metadata": {},
   "outputs": [
    {
     "data": {
      "text/plain": [
       "np.float64(2468.8151197039497)"
      ]
     },
     "execution_count": 21,
     "metadata": {},
     "output_type": "execute_result"
    }
   ],
   "source": [
    "preg[\"agepreg\"].mean()"
   ]
  },
  {
   "cell_type": "markdown",
   "id": "163c918b-af52-40dd-9274-e8994ba1b6d0",
   "metadata": {},
   "source": [
    "- Convert the centi years to years by dividing them by 100"
   ]
  },
  {
   "cell_type": "code",
   "execution_count": 22,
   "id": "31cd7db0-eb0a-492d-9fd9-35653f537046",
   "metadata": {},
   "outputs": [
    {
     "data": {
      "text/plain": [
       "np.float64(24.6881511970395)"
      ]
     },
     "execution_count": 22,
     "metadata": {},
     "output_type": "execute_result"
    }
   ],
   "source": [
    "preg[\"agepreg\"] /= 100.0\n",
    "preg[\"agepreg\"].mean()"
   ]
  },
  {
   "cell_type": "markdown",
   "id": "5a8c510f-f0ab-4c47-b37a-ac1943c57d4c",
   "metadata": {},
   "source": [
    "- combine `birthwgt_lb` and `birthwgt_oz` into single column."
   ]
  },
  {
   "cell_type": "code",
   "execution_count": 24,
   "id": "7d327da1-78ee-4840-b85e-25389178e7b7",
   "metadata": {},
   "outputs": [
    {
     "data": {
      "text/plain": [
       "birthwgt_oz\n",
       "0.0     1037\n",
       "1.0      408\n",
       "2.0      603\n",
       "3.0      533\n",
       "4.0      525\n",
       "5.0      535\n",
       "6.0      709\n",
       "7.0      501\n",
       "8.0      756\n",
       "9.0      505\n",
       "10.0     475\n",
       "11.0     557\n",
       "12.0     555\n",
       "13.0     487\n",
       "14.0     475\n",
       "15.0     378\n",
       "97.0       1\n",
       "98.0       1\n",
       "99.0      46\n",
       "NaN     4506\n",
       "Name: count, dtype: int64"
      ]
     },
     "execution_count": 24,
     "metadata": {},
     "output_type": "execute_result"
    }
   ],
   "source": [
    "preg[\"birthwgt_oz\"].value_counts(dropna=False).sort_index()"
   ]
  },
  {
   "cell_type": "markdown",
   "id": "735a9f76-570a-4a7d-bf48-0d439ca49617",
   "metadata": {},
   "source": [
    "- Replace empty data with NaN values"
   ]
  },
  {
   "cell_type": "code",
   "execution_count": 25,
   "id": "f167eeaf-bfc0-492d-aff0-d36dc6df973f",
   "metadata": {},
   "outputs": [],
   "source": [
    "preg[\"birthwgt_oz\"] = preg[\"birthwgt_oz\"].replace([97, 98, 99], np.nan)"
   ]
  },
  {
   "cell_type": "markdown",
   "id": "fa75a417-d88c-461d-95e2-a43c2d83a49c",
   "metadata": {},
   "source": [
    "- Combine pounds and ounces in one column"
   ]
  },
  {
   "cell_type": "code",
   "execution_count": 28,
   "id": "7cd29ba7-35f7-4f55-bb70-b1da75a88c66",
   "metadata": {},
   "outputs": [
    {
     "data": {
      "text/plain": [
       "np.float64(7.265628457623368)"
      ]
     },
     "execution_count": 28,
     "metadata": {},
     "output_type": "execute_result"
    }
   ],
   "source": [
    "preg[\"totalwgt_lb\"] = preg[\"birthwgt_lb\"] + preg[\"birthwgt_oz\"] / 16.0\n",
    "preg[\"totalwgt_lb\"].mean()"
   ]
  },
  {
   "cell_type": "markdown",
   "id": "8ac92d79-b077-4d49-98d1-00997d87325f",
   "metadata": {},
   "source": [
    "## 1.6 Summary Statistics"
   ]
  },
  {
   "cell_type": "markdown",
   "id": "869f55d7-4bb4-46d0-80cc-b164944e5d2f",
   "metadata": {},
   "source": [
    "A statistic is a number derived from a dataset, usually intended to quantify some aspect of the data. Examples include the count, mean, variance, and standard deviation."
   ]
  },
  {
   "cell_type": "markdown",
   "id": "0ef51776-c709-4f82-be90-16975a6ec4d4",
   "metadata": {},
   "source": [
    "- a series `count` method returns the number of values that are not NaN"
   ]
  },
  {
   "cell_type": "code",
   "execution_count": 30,
   "id": "28dbb56e-e73a-4848-82a9-a246fc498635",
   "metadata": {},
   "outputs": [
    {
     "data": {
      "text/plain": [
       "np.int64(9038)"
      ]
     },
     "execution_count": 30,
     "metadata": {},
     "output_type": "execute_result"
    }
   ],
   "source": [
    "weights = preg[\"totalwgt_lb\"]\n",
    "n = weights.count()\n",
    "n"
   ]
  },
  {
   "cell_type": "markdown",
   "id": "611924a1-da94-44de-8563-d5f157cef112",
   "metadata": {},
   "source": [
    "- `sum` method that returns the sum of the values"
   ]
  },
  {
   "cell_type": "code",
   "execution_count": 37,
   "id": "bdc0a0a5-ff7b-4cd1-8144-cde1598b07a3",
   "metadata": {},
   "outputs": [
    {
     "data": {
      "text/plain": [
       "np.float64(65666.75)"
      ]
     },
     "execution_count": 37,
     "metadata": {},
     "output_type": "execute_result"
    }
   ],
   "source": [
    "weights.sum()"
   ]
  },
  {
   "cell_type": "code",
   "execution_count": 39,
   "id": "903fbebb-83dc-4213-8ae6-64a5a7f70976",
   "metadata": {},
   "outputs": [
    {
     "data": {
      "text/plain": [
       "np.float64(7.265628457623368)"
      ]
     },
     "execution_count": 39,
     "metadata": {},
     "output_type": "execute_result"
    }
   ],
   "source": [
    "mean = weights.mean()\n",
    "mean"
   ]
  },
  {
   "cell_type": "markdown",
   "id": "0c404902-f3b2-4023-9b6a-7928b83ec916",
   "metadata": {},
   "source": [
    "- Variance: How much population varies around it's mean"
   ]
  },
  {
   "cell_type": "code",
   "execution_count": 42,
   "id": "ca992c1b-a6c0-4388-8fdf-54814047e62b",
   "metadata": {},
   "outputs": [],
   "source": [
    "squared_deviations = (weights - mean) ** 2"
   ]
  },
  {
   "cell_type": "code",
   "execution_count": 43,
   "id": "8b83ca43-4d27-4127-bab6-b2fc84e77f98",
   "metadata": {},
   "outputs": [
    {
     "data": {
      "text/plain": [
       "np.float64(1.983070989750022)"
      ]
     },
     "execution_count": 43,
     "metadata": {},
     "output_type": "execute_result"
    }
   ],
   "source": [
    "variance = squared_deviation.sum() / n\n",
    "variance"
   ]
  },
  {
   "cell_type": "markdown",
   "id": "b2001e1c-d9d2-4dec-89a6-b50d6b6a7018",
   "metadata": {},
   "source": [
    "- Series provides `var` method to calculate variance."
   ]
  },
  {
   "cell_type": "code",
   "execution_count": 45,
   "id": "9eaf2f6b-4009-46a9-b72d-82756390b46f",
   "metadata": {},
   "outputs": [
    {
     "data": {
      "text/plain": [
       "np.float64(1.9832904288326545)"
      ]
     },
     "execution_count": 45,
     "metadata": {},
     "output_type": "execute_result"
    }
   ],
   "source": [
    "weights.var() # by default it divides by n - 1"
   ]
  },
  {
   "cell_type": "code",
   "execution_count": 46,
   "id": "c9d24f52-7a59-469d-b67a-d4c4a654adf6",
   "metadata": {},
   "outputs": [
    {
     "data": {
      "text/plain": [
       "np.float64(1.983070989750022)"
      ]
     },
     "execution_count": 46,
     "metadata": {},
     "output_type": "execute_result"
    }
   ],
   "source": [
    "weights.var(ddof=0)"
   ]
  },
  {
   "cell_type": "markdown",
   "id": "075b9d1f-3b10-469c-82b8-d064653d0fb5",
   "metadata": {},
   "source": [
    "- Standard Deviation"
   ]
  },
  {
   "cell_type": "code",
   "execution_count": 48,
   "id": "5a15505d-ccf2-40a1-a87a-e1366e356f68",
   "metadata": {},
   "outputs": [
    {
     "data": {
      "text/plain": [
       "np.float64(1.40821553384062)"
      ]
     },
     "execution_count": 48,
     "metadata": {},
     "output_type": "execute_result"
    }
   ],
   "source": [
    "std = np.sqrt(variance)\n",
    "std"
   ]
  },
  {
   "cell_type": "code",
   "execution_count": 49,
   "id": "ff34f0c0-6933-438e-a73d-c81c5627f730",
   "metadata": {},
   "outputs": [
    {
     "data": {
      "text/plain": [
       "np.float64(1.40821553384062)"
      ]
     },
     "execution_count": 49,
     "metadata": {},
     "output_type": "execute_result"
    }
   ],
   "source": [
    "weights.std(ddof=0)"
   ]
  },
  {
   "cell_type": "markdown",
   "id": "b0aa7f81-c6a3-4e35-9fde-e932a7d4e013",
   "metadata": {},
   "source": [
    "## 1.7 Interpretation\n",
    "The `query` method takes a string that can contain column names, comparison operators and numbers etc. and is used for selecting a row from dataframe based on certain condition."
   ]
  },
  {
   "cell_type": "code",
   "execution_count": 51,
   "id": "18659b27-9bae-40df-a6b0-79d802ff6718",
   "metadata": {},
   "outputs": [
    {
     "data": {
      "text/plain": [
       "(7, 244)"
      ]
     },
     "execution_count": 51,
     "metadata": {},
     "output_type": "execute_result"
    }
   ],
   "source": [
    "subset = preg.query(\"caseid == 10229\")\n",
    "subset.shape"
   ]
  },
  {
   "cell_type": "code",
   "execution_count": 54,
   "id": "4be2cca1-19a6-4887-8fcf-bf5604fb5e87",
   "metadata": {},
   "outputs": [
    {
     "data": {
      "text/html": [
       "<div>\n",
       "<style scoped>\n",
       "    .dataframe tbody tr th:only-of-type {\n",
       "        vertical-align: middle;\n",
       "    }\n",
       "\n",
       "    .dataframe tbody tr th {\n",
       "        vertical-align: top;\n",
       "    }\n",
       "\n",
       "    .dataframe thead th {\n",
       "        text-align: right;\n",
       "    }\n",
       "</style>\n",
       "<table border=\"1\" class=\"dataframe\">\n",
       "  <thead>\n",
       "    <tr style=\"text-align: right;\">\n",
       "      <th></th>\n",
       "      <th>caseid</th>\n",
       "      <th>pregordr</th>\n",
       "      <th>howpreg_n</th>\n",
       "      <th>howpreg_p</th>\n",
       "      <th>moscurrp</th>\n",
       "      <th>nowprgdk</th>\n",
       "      <th>pregend1</th>\n",
       "      <th>pregend2</th>\n",
       "      <th>nbrnaliv</th>\n",
       "      <th>multbrth</th>\n",
       "      <th>...</th>\n",
       "      <th>laborfor_i</th>\n",
       "      <th>religion_i</th>\n",
       "      <th>metro_i</th>\n",
       "      <th>basewgt</th>\n",
       "      <th>adj_mod_basewgt</th>\n",
       "      <th>finalwgt</th>\n",
       "      <th>secu_p</th>\n",
       "      <th>sest</th>\n",
       "      <th>cmintvw</th>\n",
       "      <th>totalwgt_lb</th>\n",
       "    </tr>\n",
       "  </thead>\n",
       "  <tbody>\n",
       "    <tr>\n",
       "      <th>11093</th>\n",
       "      <td>10229</td>\n",
       "      <td>1</td>\n",
       "      <td>NaN</td>\n",
       "      <td>NaN</td>\n",
       "      <td>NaN</td>\n",
       "      <td>NaN</td>\n",
       "      <td>1.0</td>\n",
       "      <td>NaN</td>\n",
       "      <td>NaN</td>\n",
       "      <td>NaN</td>\n",
       "      <td>...</td>\n",
       "      <td>0</td>\n",
       "      <td>0</td>\n",
       "      <td>0</td>\n",
       "      <td>1914.323805</td>\n",
       "      <td>2021.999794</td>\n",
       "      <td>3369.662656</td>\n",
       "      <td>2</td>\n",
       "      <td>65</td>\n",
       "      <td>1232</td>\n",
       "      <td>NaN</td>\n",
       "    </tr>\n",
       "    <tr>\n",
       "      <th>11094</th>\n",
       "      <td>10229</td>\n",
       "      <td>2</td>\n",
       "      <td>NaN</td>\n",
       "      <td>NaN</td>\n",
       "      <td>NaN</td>\n",
       "      <td>NaN</td>\n",
       "      <td>1.0</td>\n",
       "      <td>NaN</td>\n",
       "      <td>NaN</td>\n",
       "      <td>NaN</td>\n",
       "      <td>...</td>\n",
       "      <td>0</td>\n",
       "      <td>0</td>\n",
       "      <td>0</td>\n",
       "      <td>1914.323805</td>\n",
       "      <td>2021.999794</td>\n",
       "      <td>3369.662656</td>\n",
       "      <td>2</td>\n",
       "      <td>65</td>\n",
       "      <td>1232</td>\n",
       "      <td>NaN</td>\n",
       "    </tr>\n",
       "    <tr>\n",
       "      <th>11095</th>\n",
       "      <td>10229</td>\n",
       "      <td>3</td>\n",
       "      <td>NaN</td>\n",
       "      <td>NaN</td>\n",
       "      <td>NaN</td>\n",
       "      <td>NaN</td>\n",
       "      <td>1.0</td>\n",
       "      <td>NaN</td>\n",
       "      <td>NaN</td>\n",
       "      <td>NaN</td>\n",
       "      <td>...</td>\n",
       "      <td>0</td>\n",
       "      <td>0</td>\n",
       "      <td>0</td>\n",
       "      <td>1914.323805</td>\n",
       "      <td>2021.999794</td>\n",
       "      <td>3369.662656</td>\n",
       "      <td>2</td>\n",
       "      <td>65</td>\n",
       "      <td>1232</td>\n",
       "      <td>NaN</td>\n",
       "    </tr>\n",
       "    <tr>\n",
       "      <th>11096</th>\n",
       "      <td>10229</td>\n",
       "      <td>4</td>\n",
       "      <td>NaN</td>\n",
       "      <td>NaN</td>\n",
       "      <td>NaN</td>\n",
       "      <td>NaN</td>\n",
       "      <td>1.0</td>\n",
       "      <td>NaN</td>\n",
       "      <td>NaN</td>\n",
       "      <td>NaN</td>\n",
       "      <td>...</td>\n",
       "      <td>0</td>\n",
       "      <td>0</td>\n",
       "      <td>0</td>\n",
       "      <td>1914.323805</td>\n",
       "      <td>2021.999794</td>\n",
       "      <td>3369.662656</td>\n",
       "      <td>2</td>\n",
       "      <td>65</td>\n",
       "      <td>1232</td>\n",
       "      <td>NaN</td>\n",
       "    </tr>\n",
       "    <tr>\n",
       "      <th>11097</th>\n",
       "      <td>10229</td>\n",
       "      <td>5</td>\n",
       "      <td>NaN</td>\n",
       "      <td>NaN</td>\n",
       "      <td>NaN</td>\n",
       "      <td>NaN</td>\n",
       "      <td>1.0</td>\n",
       "      <td>NaN</td>\n",
       "      <td>NaN</td>\n",
       "      <td>NaN</td>\n",
       "      <td>...</td>\n",
       "      <td>0</td>\n",
       "      <td>0</td>\n",
       "      <td>0</td>\n",
       "      <td>1914.323805</td>\n",
       "      <td>2021.999794</td>\n",
       "      <td>3369.662656</td>\n",
       "      <td>2</td>\n",
       "      <td>65</td>\n",
       "      <td>1232</td>\n",
       "      <td>NaN</td>\n",
       "    </tr>\n",
       "    <tr>\n",
       "      <th>11098</th>\n",
       "      <td>10229</td>\n",
       "      <td>6</td>\n",
       "      <td>NaN</td>\n",
       "      <td>NaN</td>\n",
       "      <td>NaN</td>\n",
       "      <td>NaN</td>\n",
       "      <td>1.0</td>\n",
       "      <td>NaN</td>\n",
       "      <td>NaN</td>\n",
       "      <td>NaN</td>\n",
       "      <td>...</td>\n",
       "      <td>0</td>\n",
       "      <td>0</td>\n",
       "      <td>0</td>\n",
       "      <td>1914.323805</td>\n",
       "      <td>2021.999794</td>\n",
       "      <td>3369.662656</td>\n",
       "      <td>2</td>\n",
       "      <td>65</td>\n",
       "      <td>1232</td>\n",
       "      <td>NaN</td>\n",
       "    </tr>\n",
       "    <tr>\n",
       "      <th>11099</th>\n",
       "      <td>10229</td>\n",
       "      <td>7</td>\n",
       "      <td>NaN</td>\n",
       "      <td>NaN</td>\n",
       "      <td>NaN</td>\n",
       "      <td>NaN</td>\n",
       "      <td>6.0</td>\n",
       "      <td>NaN</td>\n",
       "      <td>1.0</td>\n",
       "      <td>NaN</td>\n",
       "      <td>...</td>\n",
       "      <td>0</td>\n",
       "      <td>0</td>\n",
       "      <td>0</td>\n",
       "      <td>1914.323805</td>\n",
       "      <td>2021.999794</td>\n",
       "      <td>3369.662656</td>\n",
       "      <td>2</td>\n",
       "      <td>65</td>\n",
       "      <td>1232</td>\n",
       "      <td>7.6875</td>\n",
       "    </tr>\n",
       "  </tbody>\n",
       "</table>\n",
       "<p>7 rows × 244 columns</p>\n",
       "</div>"
      ],
      "text/plain": [
       "       caseid  pregordr  howpreg_n  howpreg_p  moscurrp  nowprgdk  pregend1  \\\n",
       "11093   10229         1        NaN        NaN       NaN       NaN       1.0   \n",
       "11094   10229         2        NaN        NaN       NaN       NaN       1.0   \n",
       "11095   10229         3        NaN        NaN       NaN       NaN       1.0   \n",
       "11096   10229         4        NaN        NaN       NaN       NaN       1.0   \n",
       "11097   10229         5        NaN        NaN       NaN       NaN       1.0   \n",
       "11098   10229         6        NaN        NaN       NaN       NaN       1.0   \n",
       "11099   10229         7        NaN        NaN       NaN       NaN       6.0   \n",
       "\n",
       "       pregend2  nbrnaliv  multbrth  ...  laborfor_i  religion_i  metro_i  \\\n",
       "11093       NaN       NaN       NaN  ...           0           0        0   \n",
       "11094       NaN       NaN       NaN  ...           0           0        0   \n",
       "11095       NaN       NaN       NaN  ...           0           0        0   \n",
       "11096       NaN       NaN       NaN  ...           0           0        0   \n",
       "11097       NaN       NaN       NaN  ...           0           0        0   \n",
       "11098       NaN       NaN       NaN  ...           0           0        0   \n",
       "11099       NaN       1.0       NaN  ...           0           0        0   \n",
       "\n",
       "           basewgt  adj_mod_basewgt     finalwgt  secu_p  sest  cmintvw  \\\n",
       "11093  1914.323805      2021.999794  3369.662656       2    65     1232   \n",
       "11094  1914.323805      2021.999794  3369.662656       2    65     1232   \n",
       "11095  1914.323805      2021.999794  3369.662656       2    65     1232   \n",
       "11096  1914.323805      2021.999794  3369.662656       2    65     1232   \n",
       "11097  1914.323805      2021.999794  3369.662656       2    65     1232   \n",
       "11098  1914.323805      2021.999794  3369.662656       2    65     1232   \n",
       "11099  1914.323805      2021.999794  3369.662656       2    65     1232   \n",
       "\n",
       "       totalwgt_lb  \n",
       "11093          NaN  \n",
       "11094          NaN  \n",
       "11095          NaN  \n",
       "11096          NaN  \n",
       "11097          NaN  \n",
       "11098          NaN  \n",
       "11099       7.6875  \n",
       "\n",
       "[7 rows x 244 columns]"
      ]
     },
     "execution_count": 54,
     "metadata": {},
     "output_type": "execute_result"
    }
   ],
   "source": [
    "subset"
   ]
  },
  {
   "cell_type": "code",
   "execution_count": 52,
   "id": "111a04aa-8396-428a-8397-41e5df7a5b81",
   "metadata": {},
   "outputs": [
    {
     "data": {
      "text/plain": [
       "array([4, 4, 4, 4, 4, 4, 1])"
      ]
     },
     "execution_count": 52,
     "metadata": {},
     "output_type": "execute_result"
    }
   ],
   "source": [
    "subset[\"outcome\"].values"
   ]
  },
  {
   "cell_type": "code",
   "execution_count": 55,
   "id": "5646fc75-57b0-46f2-9746-27f7f057560e",
   "metadata": {},
   "outputs": [
    {
     "data": {
      "text/plain": [
       "count    9038.000000\n",
       "mean        7.265628\n",
       "std         1.408293\n",
       "min         0.125000\n",
       "25%         6.500000\n",
       "50%         7.375000\n",
       "75%         8.125000\n",
       "max        15.437500\n",
       "Name: totalwgt_lb, dtype: float64"
      ]
     },
     "execution_count": 55,
     "metadata": {},
     "output_type": "execute_result"
    }
   ],
   "source": [
    "weights.describe()"
   ]
  },
  {
   "cell_type": "markdown",
   "id": "e2e27124-bc22-437c-be2a-77353ff26564",
   "metadata": {},
   "source": [
    "# 1.9 EXERCISES"
   ]
  },
  {
   "cell_type": "markdown",
   "id": "11e07f46-6ccd-45b3-b812-5daf832891fb",
   "metadata": {},
   "source": [
    "## Exercise 1.1\n",
    "Select the birthord column from preg, print the value counts, and compare to results published in the codebook at https://ftp.cdc.gov/pub/Health_Statistics/NCHS/Dataset_Documentation/NSFG/Cycle6Codebook-Pregnancy.pdf."
   ]
  },
  {
   "cell_type": "code",
   "execution_count": 57,
   "id": "4ab5f739-4300-431c-addf-98c055dc1161",
   "metadata": {},
   "outputs": [
    {
     "data": {
      "text/plain": [
       "0    1.0\n",
       "1    2.0\n",
       "2    1.0\n",
       "3    2.0\n",
       "4    3.0\n",
       "Name: birthord, dtype: float64"
      ]
     },
     "execution_count": 57,
     "metadata": {},
     "output_type": "execute_result"
    }
   ],
   "source": [
    "preg[\"birthord\"].head()"
   ]
  },
  {
   "cell_type": "code",
   "execution_count": 64,
   "id": "6d987eb1-8434-4f88-a3f7-87b8d7892f6f",
   "metadata": {},
   "outputs": [
    {
     "data": {
      "text/plain": [
       "birthord\n",
       "1.0     4413\n",
       "2.0     2874\n",
       "3.0     1234\n",
       "4.0      421\n",
       "5.0      126\n",
       "6.0       50\n",
       "7.0       20\n",
       "8.0        7\n",
       "9.0        2\n",
       "10.0       1\n",
       "NaN     4445\n",
       "Name: count, dtype: int64"
      ]
     },
     "execution_count": 64,
     "metadata": {},
     "output_type": "execute_result"
    }
   ],
   "source": [
    "birthord_count = preg[\"birthord\"].value_counts(dropna=False).sort_index()\n",
    "birthord_count"
   ]
  },
  {
   "cell_type": "markdown",
   "id": "3c73e643-f619-4457-9a86-1aa9c35b4280",
   "metadata": {},
   "source": [
    "## Exercise 1.2\n",
    "Create a new column named totalwgt_kg that contains birth weight in kilograms (there are approximately 2.2 pounds per kilogram). Compute the mean and standard deviation of the new column."
   ]
  },
  {
   "cell_type": "code",
   "execution_count": 67,
   "id": "631311ed-4087-4009-aef8-504bd41588fb",
   "metadata": {},
   "outputs": [
    {
     "data": {
      "text/plain": [
       "0    8.0\n",
       "1    7.0\n",
       "2    9.0\n",
       "3    7.0\n",
       "4    6.0\n",
       "Name: birthwgt_lb, dtype: float64"
      ]
     },
     "execution_count": 67,
     "metadata": {},
     "output_type": "execute_result"
    }
   ],
   "source": [
    "preg[\"birthwgt_lb\"].head()"
   ]
  },
  {
   "cell_type": "code",
   "execution_count": 68,
   "id": "3f482aa3-6f58-4729-b1f7-ddd5d208243c",
   "metadata": {},
   "outputs": [
    {
     "data": {
      "text/plain": [
       "0    3.636364\n",
       "1    3.181818\n",
       "2    4.090909\n",
       "3    3.181818\n",
       "4    2.727273\n",
       "Name: totalwgt_kg, dtype: float64"
      ]
     },
     "execution_count": 68,
     "metadata": {},
     "output_type": "execute_result"
    }
   ],
   "source": [
    "preg[\"totalwgt_kg\"] = preg[\"birthwgt_lb\"] / 2.2\n",
    "preg[\"totalwgt_kg\"].head()"
   ]
  },
  {
   "cell_type": "code",
   "execution_count": 69,
   "id": "0bc7fd79-35c6-4fa3-8257-9c4981b0cb6f",
   "metadata": {},
   "outputs": [
    {
     "data": {
      "text/plain": [
       "np.int64(9084)"
      ]
     },
     "execution_count": 69,
     "metadata": {},
     "output_type": "execute_result"
    }
   ],
   "source": [
    "total_weight = preg[\"totalwgt_kg\"]\n",
    "total_weight.count()"
   ]
  },
  {
   "cell_type": "code",
   "execution_count": 70,
   "id": "c80bb634-2967-42fb-a2df-c61109fe63e7",
   "metadata": {},
   "outputs": [
    {
     "data": {
      "text/plain": [
       "np.float64(3.1055101877426843)"
      ]
     },
     "execution_count": 70,
     "metadata": {},
     "output_type": "execute_result"
    }
   ],
   "source": [
    "total_weight.mean()"
   ]
  },
  {
   "cell_type": "code",
   "execution_count": 71,
   "id": "c9324889-ffb8-436c-8962-8b3328243bf6",
   "metadata": {},
   "outputs": [
    {
     "data": {
      "text/plain": [
       "np.float64(0.6415313591386952)"
      ]
     },
     "execution_count": 71,
     "metadata": {},
     "output_type": "execute_result"
    }
   ],
   "source": [
    "total_weight.std(ddof=0)"
   ]
  },
  {
   "cell_type": "markdown",
   "id": "af8c101d-28cc-4ead-b856-f456c3775339",
   "metadata": {},
   "source": [
    "## Exercise 1.3\n",
    "What are the pregnancy lengths for the respondent with caseid 2298?\n",
    "\n",
    "What was the birth weight of the first baby born to the respondent with caseid 5013? Hint: You can use and to check more than one condition in a query."
   ]
  },
  {
   "cell_type": "code",
   "execution_count": 84,
   "id": "01e3584b-fb68-4979-8c44-1e9df0f0c994",
   "metadata": {},
   "outputs": [],
   "source": [
    "subset2 = preg.query(\"caseid == 2298\")\n",
    "subset3 = preg.query(\"caseid == 5013\")"
   ]
  },
  {
   "cell_type": "code",
   "execution_count": 85,
   "id": "2bc873f2-92b6-4c94-8a19-a77143358827",
   "metadata": {},
   "outputs": [
    {
     "data": {
      "text/html": [
       "<div>\n",
       "<style scoped>\n",
       "    .dataframe tbody tr th:only-of-type {\n",
       "        vertical-align: middle;\n",
       "    }\n",
       "\n",
       "    .dataframe tbody tr th {\n",
       "        vertical-align: top;\n",
       "    }\n",
       "\n",
       "    .dataframe thead th {\n",
       "        text-align: right;\n",
       "    }\n",
       "</style>\n",
       "<table border=\"1\" class=\"dataframe\">\n",
       "  <thead>\n",
       "    <tr style=\"text-align: right;\">\n",
       "      <th></th>\n",
       "      <th>caseid</th>\n",
       "      <th>pregordr</th>\n",
       "      <th>howpreg_n</th>\n",
       "      <th>howpreg_p</th>\n",
       "      <th>moscurrp</th>\n",
       "      <th>nowprgdk</th>\n",
       "      <th>pregend1</th>\n",
       "      <th>pregend2</th>\n",
       "      <th>nbrnaliv</th>\n",
       "      <th>multbrth</th>\n",
       "      <th>...</th>\n",
       "      <th>religion_i</th>\n",
       "      <th>metro_i</th>\n",
       "      <th>basewgt</th>\n",
       "      <th>adj_mod_basewgt</th>\n",
       "      <th>finalwgt</th>\n",
       "      <th>secu_p</th>\n",
       "      <th>sest</th>\n",
       "      <th>cmintvw</th>\n",
       "      <th>totalwgt_lb</th>\n",
       "      <th>totalwgt_kg</th>\n",
       "    </tr>\n",
       "  </thead>\n",
       "  <tbody>\n",
       "    <tr>\n",
       "      <th>2610</th>\n",
       "      <td>2298</td>\n",
       "      <td>1</td>\n",
       "      <td>NaN</td>\n",
       "      <td>NaN</td>\n",
       "      <td>NaN</td>\n",
       "      <td>NaN</td>\n",
       "      <td>6.0</td>\n",
       "      <td>NaN</td>\n",
       "      <td>1.0</td>\n",
       "      <td>NaN</td>\n",
       "      <td>...</td>\n",
       "      <td>0</td>\n",
       "      <td>0</td>\n",
       "      <td>3247.916977</td>\n",
       "      <td>5123.759559</td>\n",
       "      <td>5556.717241</td>\n",
       "      <td>2</td>\n",
       "      <td>18</td>\n",
       "      <td>1234</td>\n",
       "      <td>6.8750</td>\n",
       "      <td>2.727273</td>\n",
       "    </tr>\n",
       "    <tr>\n",
       "      <th>2611</th>\n",
       "      <td>2298</td>\n",
       "      <td>2</td>\n",
       "      <td>NaN</td>\n",
       "      <td>NaN</td>\n",
       "      <td>NaN</td>\n",
       "      <td>NaN</td>\n",
       "      <td>6.0</td>\n",
       "      <td>NaN</td>\n",
       "      <td>1.0</td>\n",
       "      <td>NaN</td>\n",
       "      <td>...</td>\n",
       "      <td>0</td>\n",
       "      <td>0</td>\n",
       "      <td>3247.916977</td>\n",
       "      <td>5123.759559</td>\n",
       "      <td>5556.717241</td>\n",
       "      <td>2</td>\n",
       "      <td>18</td>\n",
       "      <td>1234</td>\n",
       "      <td>5.5000</td>\n",
       "      <td>2.272727</td>\n",
       "    </tr>\n",
       "    <tr>\n",
       "      <th>2612</th>\n",
       "      <td>2298</td>\n",
       "      <td>3</td>\n",
       "      <td>NaN</td>\n",
       "      <td>NaN</td>\n",
       "      <td>NaN</td>\n",
       "      <td>NaN</td>\n",
       "      <td>6.0</td>\n",
       "      <td>NaN</td>\n",
       "      <td>1.0</td>\n",
       "      <td>NaN</td>\n",
       "      <td>...</td>\n",
       "      <td>0</td>\n",
       "      <td>0</td>\n",
       "      <td>3247.916977</td>\n",
       "      <td>5123.759559</td>\n",
       "      <td>5556.717241</td>\n",
       "      <td>2</td>\n",
       "      <td>18</td>\n",
       "      <td>1234</td>\n",
       "      <td>4.1875</td>\n",
       "      <td>1.818182</td>\n",
       "    </tr>\n",
       "    <tr>\n",
       "      <th>2613</th>\n",
       "      <td>2298</td>\n",
       "      <td>4</td>\n",
       "      <td>NaN</td>\n",
       "      <td>NaN</td>\n",
       "      <td>NaN</td>\n",
       "      <td>NaN</td>\n",
       "      <td>6.0</td>\n",
       "      <td>NaN</td>\n",
       "      <td>1.0</td>\n",
       "      <td>NaN</td>\n",
       "      <td>...</td>\n",
       "      <td>0</td>\n",
       "      <td>0</td>\n",
       "      <td>3247.916977</td>\n",
       "      <td>5123.759559</td>\n",
       "      <td>5556.717241</td>\n",
       "      <td>2</td>\n",
       "      <td>18</td>\n",
       "      <td>1234</td>\n",
       "      <td>6.8750</td>\n",
       "      <td>2.727273</td>\n",
       "    </tr>\n",
       "  </tbody>\n",
       "</table>\n",
       "<p>4 rows × 245 columns</p>\n",
       "</div>"
      ],
      "text/plain": [
       "      caseid  pregordr  howpreg_n  howpreg_p  moscurrp  nowprgdk  pregend1  \\\n",
       "2610    2298         1        NaN        NaN       NaN       NaN       6.0   \n",
       "2611    2298         2        NaN        NaN       NaN       NaN       6.0   \n",
       "2612    2298         3        NaN        NaN       NaN       NaN       6.0   \n",
       "2613    2298         4        NaN        NaN       NaN       NaN       6.0   \n",
       "\n",
       "      pregend2  nbrnaliv  multbrth  ...  religion_i  metro_i      basewgt  \\\n",
       "2610       NaN       1.0       NaN  ...           0        0  3247.916977   \n",
       "2611       NaN       1.0       NaN  ...           0        0  3247.916977   \n",
       "2612       NaN       1.0       NaN  ...           0        0  3247.916977   \n",
       "2613       NaN       1.0       NaN  ...           0        0  3247.916977   \n",
       "\n",
       "      adj_mod_basewgt     finalwgt  secu_p  sest  cmintvw  totalwgt_lb  \\\n",
       "2610      5123.759559  5556.717241       2    18     1234       6.8750   \n",
       "2611      5123.759559  5556.717241       2    18     1234       5.5000   \n",
       "2612      5123.759559  5556.717241       2    18     1234       4.1875   \n",
       "2613      5123.759559  5556.717241       2    18     1234       6.8750   \n",
       "\n",
       "      totalwgt_kg  \n",
       "2610     2.727273  \n",
       "2611     2.272727  \n",
       "2612     1.818182  \n",
       "2613     2.727273  \n",
       "\n",
       "[4 rows x 245 columns]"
      ]
     },
     "execution_count": 85,
     "metadata": {},
     "output_type": "execute_result"
    }
   ],
   "source": [
    "subset2"
   ]
  },
  {
   "cell_type": "code",
   "execution_count": 86,
   "id": "31f8c4c6-8fee-4b1b-ae01-b7f49f8b1daf",
   "metadata": {},
   "outputs": [
    {
     "data": {
      "text/html": [
       "<div>\n",
       "<style scoped>\n",
       "    .dataframe tbody tr th:only-of-type {\n",
       "        vertical-align: middle;\n",
       "    }\n",
       "\n",
       "    .dataframe tbody tr th {\n",
       "        vertical-align: top;\n",
       "    }\n",
       "\n",
       "    .dataframe thead th {\n",
       "        text-align: right;\n",
       "    }\n",
       "</style>\n",
       "<table border=\"1\" class=\"dataframe\">\n",
       "  <thead>\n",
       "    <tr style=\"text-align: right;\">\n",
       "      <th></th>\n",
       "      <th>caseid</th>\n",
       "      <th>pregordr</th>\n",
       "      <th>howpreg_n</th>\n",
       "      <th>howpreg_p</th>\n",
       "      <th>moscurrp</th>\n",
       "      <th>nowprgdk</th>\n",
       "      <th>pregend1</th>\n",
       "      <th>pregend2</th>\n",
       "      <th>nbrnaliv</th>\n",
       "      <th>multbrth</th>\n",
       "      <th>...</th>\n",
       "      <th>religion_i</th>\n",
       "      <th>metro_i</th>\n",
       "      <th>basewgt</th>\n",
       "      <th>adj_mod_basewgt</th>\n",
       "      <th>finalwgt</th>\n",
       "      <th>secu_p</th>\n",
       "      <th>sest</th>\n",
       "      <th>cmintvw</th>\n",
       "      <th>totalwgt_lb</th>\n",
       "      <th>totalwgt_kg</th>\n",
       "    </tr>\n",
       "  </thead>\n",
       "  <tbody>\n",
       "    <tr>\n",
       "      <th>5516</th>\n",
       "      <td>5013</td>\n",
       "      <td>1</td>\n",
       "      <td>NaN</td>\n",
       "      <td>NaN</td>\n",
       "      <td>NaN</td>\n",
       "      <td>NaN</td>\n",
       "      <td>5.0</td>\n",
       "      <td>NaN</td>\n",
       "      <td>1.0</td>\n",
       "      <td>NaN</td>\n",
       "      <td>...</td>\n",
       "      <td>0</td>\n",
       "      <td>0</td>\n",
       "      <td>3643.044395</td>\n",
       "      <td>4548.148695</td>\n",
       "      <td>6132.268885</td>\n",
       "      <td>1</td>\n",
       "      <td>25</td>\n",
       "      <td>1231</td>\n",
       "      <td>7.3750</td>\n",
       "      <td>3.181818</td>\n",
       "    </tr>\n",
       "    <tr>\n",
       "      <th>5517</th>\n",
       "      <td>5013</td>\n",
       "      <td>2</td>\n",
       "      <td>NaN</td>\n",
       "      <td>NaN</td>\n",
       "      <td>NaN</td>\n",
       "      <td>NaN</td>\n",
       "      <td>3.0</td>\n",
       "      <td>NaN</td>\n",
       "      <td>NaN</td>\n",
       "      <td>NaN</td>\n",
       "      <td>...</td>\n",
       "      <td>0</td>\n",
       "      <td>0</td>\n",
       "      <td>3643.044395</td>\n",
       "      <td>4548.148695</td>\n",
       "      <td>6132.268885</td>\n",
       "      <td>1</td>\n",
       "      <td>25</td>\n",
       "      <td>1231</td>\n",
       "      <td>NaN</td>\n",
       "      <td>NaN</td>\n",
       "    </tr>\n",
       "    <tr>\n",
       "      <th>5518</th>\n",
       "      <td>5013</td>\n",
       "      <td>3</td>\n",
       "      <td>NaN</td>\n",
       "      <td>NaN</td>\n",
       "      <td>NaN</td>\n",
       "      <td>NaN</td>\n",
       "      <td>5.0</td>\n",
       "      <td>NaN</td>\n",
       "      <td>1.0</td>\n",
       "      <td>NaN</td>\n",
       "      <td>...</td>\n",
       "      <td>0</td>\n",
       "      <td>0</td>\n",
       "      <td>3643.044395</td>\n",
       "      <td>4548.148695</td>\n",
       "      <td>6132.268885</td>\n",
       "      <td>1</td>\n",
       "      <td>25</td>\n",
       "      <td>1231</td>\n",
       "      <td>8.3125</td>\n",
       "      <td>3.636364</td>\n",
       "    </tr>\n",
       "    <tr>\n",
       "      <th>5519</th>\n",
       "      <td>5013</td>\n",
       "      <td>4</td>\n",
       "      <td>NaN</td>\n",
       "      <td>NaN</td>\n",
       "      <td>NaN</td>\n",
       "      <td>NaN</td>\n",
       "      <td>5.0</td>\n",
       "      <td>NaN</td>\n",
       "      <td>1.0</td>\n",
       "      <td>NaN</td>\n",
       "      <td>...</td>\n",
       "      <td>0</td>\n",
       "      <td>0</td>\n",
       "      <td>3643.044395</td>\n",
       "      <td>4548.148695</td>\n",
       "      <td>6132.268885</td>\n",
       "      <td>1</td>\n",
       "      <td>25</td>\n",
       "      <td>1231</td>\n",
       "      <td>8.1250</td>\n",
       "      <td>3.636364</td>\n",
       "    </tr>\n",
       "  </tbody>\n",
       "</table>\n",
       "<p>4 rows × 245 columns</p>\n",
       "</div>"
      ],
      "text/plain": [
       "      caseid  pregordr  howpreg_n  howpreg_p  moscurrp  nowprgdk  pregend1  \\\n",
       "5516    5013         1        NaN        NaN       NaN       NaN       5.0   \n",
       "5517    5013         2        NaN        NaN       NaN       NaN       3.0   \n",
       "5518    5013         3        NaN        NaN       NaN       NaN       5.0   \n",
       "5519    5013         4        NaN        NaN       NaN       NaN       5.0   \n",
       "\n",
       "      pregend2  nbrnaliv  multbrth  ...  religion_i  metro_i      basewgt  \\\n",
       "5516       NaN       1.0       NaN  ...           0        0  3643.044395   \n",
       "5517       NaN       NaN       NaN  ...           0        0  3643.044395   \n",
       "5518       NaN       1.0       NaN  ...           0        0  3643.044395   \n",
       "5519       NaN       1.0       NaN  ...           0        0  3643.044395   \n",
       "\n",
       "      adj_mod_basewgt     finalwgt  secu_p  sest  cmintvw  totalwgt_lb  \\\n",
       "5516      4548.148695  6132.268885       1    25     1231       7.3750   \n",
       "5517      4548.148695  6132.268885       1    25     1231          NaN   \n",
       "5518      4548.148695  6132.268885       1    25     1231       8.3125   \n",
       "5519      4548.148695  6132.268885       1    25     1231       8.1250   \n",
       "\n",
       "      totalwgt_kg  \n",
       "5516     3.181818  \n",
       "5517          NaN  \n",
       "5518     3.636364  \n",
       "5519     3.636364  \n",
       "\n",
       "[4 rows x 245 columns]"
      ]
     },
     "execution_count": 86,
     "metadata": {},
     "output_type": "execute_result"
    }
   ],
   "source": [
    "subset3"
   ]
  },
  {
   "cell_type": "code",
   "execution_count": 79,
   "id": "65b870cb-bc72-4767-8c75-05233fb8911e",
   "metadata": {},
   "outputs": [
    {
     "data": {
      "text/plain": [
       "2610    40\n",
       "2611    36\n",
       "2612    30\n",
       "2613    40\n",
       "Name: prglngth, dtype: int64"
      ]
     },
     "execution_count": 79,
     "metadata": {},
     "output_type": "execute_result"
    }
   ],
   "source": [
    "subset2[\"prglngth\"]"
   ]
  },
  {
   "cell_type": "code",
   "execution_count": 89,
   "id": "79bc29fb-42b4-4449-90cc-e8d15ffb0ebc",
   "metadata": {},
   "outputs": [
    {
     "data": {
      "text/plain": [
       "np.float64(3.1818181818181817)"
      ]
     },
     "execution_count": 89,
     "metadata": {},
     "output_type": "execute_result"
    }
   ],
   "source": [
    "subset3[\"totalwgt_kg\"].iloc[0]"
   ]
  }
 ],
 "metadata": {
  "kernelspec": {
   "display_name": "Python 3 (ipykernel)",
   "language": "python",
   "name": "python3"
  },
  "language_info": {
   "codemirror_mode": {
    "name": "ipython",
    "version": 3
   },
   "file_extension": ".py",
   "mimetype": "text/x-python",
   "name": "python",
   "nbconvert_exporter": "python",
   "pygments_lexer": "ipython3",
   "version": "3.13.1"
  }
 },
 "nbformat": 4,
 "nbformat_minor": 5
}
