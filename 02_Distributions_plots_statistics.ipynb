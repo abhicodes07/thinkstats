{
 "cells": [
  {
   "cell_type": "markdown",
   "id": "398e3c71-eeac-4bd3-b116-c6cd5b8a3fb7",
   "metadata": {},
   "source": [
    "# 2. Distributions"
   ]
  },
  {
   "cell_type": "code",
   "execution_count": 1,
   "id": "1de8f842-8a65-44e7-b50a-b2611d2f5587",
   "metadata": {},
   "outputs": [],
   "source": [
    "from os.path import basename, exists\n",
    "\n",
    "\n",
    "def download(url):\n",
    "    filename = basename(url)\n",
    "    if not exists(filename):\n",
    "        from urllib.request import urlretrieve\n",
    "\n",
    "        local, _ = urlretrieve(url, filename)\n",
    "        print(\"Downloaded \" + local)\n",
    "\n",
    "\n",
    "download(\"https://github.com/AllenDowney/ThinkStats/raw/v3/nb/thinkstats.py\")"
   ]
  },
  {
   "cell_type": "code",
   "execution_count": 2,
   "id": "8f74ce3a-5030-464f-a705-a4ec45b3a8df",
   "metadata": {},
   "outputs": [],
   "source": [
    "try:\n",
    "    import empiricaldist\n",
    "except ImportError:\n",
    "    !pip install empiricaldist"
   ]
  },
  {
   "cell_type": "code",
   "execution_count": 3,
   "id": "fc2cd90c-d2f4-4a2a-934f-70a12e56cf19",
   "metadata": {},
   "outputs": [],
   "source": [
    "import numpy as np\n",
    "import matplotlib.pyplot as plt\n",
    "from thinkstats import decorate"
   ]
  },
  {
   "cell_type": "markdown",
   "id": "d39a9828-81aa-461c-a960-39ef8d9d0661",
   "metadata": {},
   "source": [
    "# 2.1 Frequency Tables\n",
    "Frequency tables contains the values of the variate and the times it is repeating itself i.e., their frequency in a distribution.\n",
    "This description is called as distribution."
   ]
  },
  {
   "cell_type": "markdown",
   "id": "33474757-77c0-492f-826c-047f01e6f69b",
   "metadata": {},
   "source": [
    "To represent distributions, we use a library called as `empiricaldist` where empirical means that the distributions are based on the data rather than mathematical proofs or models.\n",
    "- Provides `FreqTab`: Compute and plot frequency tables."
   ]
  },
  {
   "cell_type": "code",
   "execution_count": 4,
   "id": "f8d1ad75-67e3-46d6-a340-f779fecd4e86",
   "metadata": {},
   "outputs": [],
   "source": [
    "from empiricaldist import FreqTab"
   ]
  },
  {
   "cell_type": "code",
   "execution_count": 5,
   "id": "b8cb784f-d7dc-485c-a67e-40555eed0922",
   "metadata": {},
   "outputs": [],
   "source": [
    "val = [10, 20, 20, 30, 40, 40, 60, 20, 50, 30]"
   ]
  },
  {
   "cell_type": "code",
   "execution_count": 6,
   "id": "e0c46a41-190f-4ec9-89b7-1b7fec6c529c",
   "metadata": {},
   "outputs": [
    {
     "data": {
      "text/html": [
       "<div>\n",
       "<style scoped>\n",
       "    .dataframe tbody tr th:only-of-type {\n",
       "        vertical-align: middle;\n",
       "    }\n",
       "\n",
       "    .dataframe tbody tr th {\n",
       "        vertical-align: top;\n",
       "    }\n",
       "\n",
       "    .dataframe thead th {\n",
       "        text-align: right;\n",
       "    }\n",
       "</style>\n",
       "<table border=\"1\" class=\"dataframe\">\n",
       "  <thead>\n",
       "    <tr style=\"text-align: right;\">\n",
       "      <th></th>\n",
       "      <th>freqs</th>\n",
       "    </tr>\n",
       "  </thead>\n",
       "  <tbody>\n",
       "    <tr>\n",
       "      <th>10</th>\n",
       "      <td>1</td>\n",
       "    </tr>\n",
       "    <tr>\n",
       "      <th>20</th>\n",
       "      <td>3</td>\n",
       "    </tr>\n",
       "    <tr>\n",
       "      <th>30</th>\n",
       "      <td>2</td>\n",
       "    </tr>\n",
       "    <tr>\n",
       "      <th>40</th>\n",
       "      <td>2</td>\n",
       "    </tr>\n",
       "    <tr>\n",
       "      <th>50</th>\n",
       "      <td>1</td>\n",
       "    </tr>\n",
       "    <tr>\n",
       "      <th>60</th>\n",
       "      <td>1</td>\n",
       "    </tr>\n",
       "  </tbody>\n",
       "</table>\n",
       "</div>"
      ],
      "text/plain": [
       "10    1\n",
       "20    3\n",
       "30    2\n",
       "40    2\n",
       "50    1\n",
       "60    1\n",
       "Name: , dtype: int64"
      ]
     },
     "execution_count": 6,
     "metadata": {},
     "output_type": "execute_result"
    }
   ],
   "source": [
    "freqtab = FreqTab.from_seq(val)\n",
    "freqtab"
   ]
  },
  {
   "cell_type": "markdown",
   "id": "a7857758-7ead-41d1-bd14-a433397c3122",
   "metadata": {},
   "source": [
    "- The resulting table is pandas series."
   ]
  },
  {
   "cell_type": "markdown",
   "id": "9d95c8d7-0656-4576-968f-455d3e9b6488",
   "metadata": {},
   "source": [
    "- To plot the frequency of the variates on using bar graph we can use `bar()` method."
   ]
  },
  {
   "cell_type": "code",
   "execution_count": 7,
   "id": "c0d05167-bb62-47d7-b4fd-168766e51efa",
   "metadata": {},
   "outputs": [
    {
     "data": {
      "image/png": "[encoded data removed]",
      "text/plain": [
       "<Figure size 450x262.5 with 1 Axes>"
      ]
     },
     "metadata": {},
     "output_type": "display_data"
    }
   ],
   "source": [
    "freqtab.bar()\n",
    "decorate(xlabel=\"Value - Variate\", ylabel=\"Frequency - Repetation\")"
   ]
  },
  {
   "cell_type": "code",
   "execution_count": 8,
   "id": "06e1fbf0-818d-4c4a-8b51-58208b60a7d1",
   "metadata": {},
   "outputs": [
    {
     "data": {
      "text/plain": [
       "np.int64(3)"
      ]
     },
     "execution_count": 8,
     "metadata": {},
     "output_type": "execute_result"
    }
   ],
   "source": [
    "freqtab[20]"
   ]
  },
  {
   "cell_type": "markdown",
   "id": "dc414535-1ff0-412e-bba0-5abe90526afe",
   "metadata": {},
   "source": [
    "- Returning array of frequencies. "
   ]
  },
  {
   "cell_type": "code",
   "execution_count": 9,
   "id": "ae30d95a-1332-4789-a740-84efa15d6683",
   "metadata": {},
   "outputs": [
    {
     "data": {
      "text/plain": [
       "array([1, 3, 2, 2, 1, 1])"
      ]
     },
     "execution_count": 9,
     "metadata": {},
     "output_type": "execute_result"
    }
   ],
   "source": [
    "freqtab.fs"
   ]
  },
  {
   "cell_type": "markdown",
   "id": "53f68c3b-779b-4d59-a7b6-05edb44cd0f8",
   "metadata": {},
   "source": [
    "- Looping over variate and it's frequency using `items()` method."
   ]
  },
  {
   "cell_type": "code",
   "execution_count": 10,
   "id": "55d42e06-4453-4ff8-a0a2-67c3a2c6208a",
   "metadata": {},
   "outputs": [
    {
     "name": "stdout",
     "output_type": "stream",
     "text": [
      "xi | frequency\n",
      "10 | 1\n",
      "20 | 3\n",
      "30 | 2\n",
      "40 | 2\n",
      "50 | 1\n",
      "60 | 1\n"
     ]
    }
   ],
   "source": [
    "print(\"xi | frequency\")\n",
    "for x, freq in freqtab.items():\n",
    "    print(f\"{x} | {freq}\")"
   ]
  },
  {
   "cell_type": "markdown",
   "id": "f31084f6-fe7d-47e4-b653-bfc80393132d",
   "metadata": {},
   "source": [
    "# 2.2 NSFG Distribution"
   ]
  },
  {
   "cell_type": "code",
   "execution_count": 11,
   "id": "b6dcb821-26b9-40ba-8e68-398c73b2394f",
   "metadata": {},
   "outputs": [],
   "source": [
    "# needed to read the data from the dataset\n",
    "try:\n",
    "    import statadict\n",
    "except ImportError:\n",
    "    !pip install statadict"
   ]
  },
  {
   "cell_type": "code",
   "execution_count": 12,
   "id": "f8f793b5-e454-464d-8892-d99552cdbd8b",
   "metadata": {},
   "outputs": [],
   "source": [
    "download(\"https://github.com/AllenDowney/ThinkStats/raw/v3/nb/nsfg.py\")\n",
    "download(\"https://github.com/AllenDowney/ThinkStats/raw/v3/data/2002FemPreg.dct\")\n",
    "download(\"https://github.com/AllenDowney/ThinkStats/raw/v3/data/2002FemPreg.dat.gz\")"
   ]
  },
  {
   "cell_type": "markdown",
   "id": "f9ced67b-5f6a-40ab-9bf2-ce948801951d",
   "metadata": {},
   "source": [
    "- Read the pregnancy data from the nsfg dataset. "
   ]
  },
  {
   "cell_type": "code",
   "execution_count": 13,
   "id": "03eb26c2-bbac-4c4e-966a-7c3182eb2d5e",
   "metadata": {},
   "outputs": [],
   "source": [
    "from nsfg import read_fem_preg\n",
    "preg = read_fem_preg()"
   ]
  },
  {
   "cell_type": "code",
   "execution_count": 14,
   "id": "01f54412-b214-4517-b013-dedb36ca42b4",
   "metadata": {},
   "outputs": [],
   "source": [
    "# select the rows from preg column which resulted in\n",
    "# live birth i.e., outcomes == 1\n",
    "live = preg.query(\"outcome == 1\")"
   ]
  },
  {
   "cell_type": "markdown",
   "id": "26226b96-64e2-4681-9765-e40219f4ec65",
   "metadata": {},
   "source": [
    "### Example 1:\n",
    "- Count the number of times each quantity appears in birthwgt_lb (pounds)."
   ]
  },
  {
   "cell_type": "code",
   "execution_count": 15,
   "id": "669bb731-07ea-4a4f-8ce6-0f16774bba7d",
   "metadata": {},
   "outputs": [],
   "source": [
    "ftab_lb = FreqTab.from_seq(live[\"birthwgt_lb\"], name=\"birthwgt_lb\") # names attr gives the FreqTab object a name"
   ]
  },
  {
   "cell_type": "code",
   "execution_count": 16,
   "id": "9720cf77-4727-48c4-9003-3afb7c472902",
   "metadata": {},
   "outputs": [
    {
     "data": {
      "text/html": [
       "<div>\n",
       "<style scoped>\n",
       "    .dataframe tbody tr th:only-of-type {\n",
       "        vertical-align: middle;\n",
       "    }\n",
       "\n",
       "    .dataframe tbody tr th {\n",
       "        vertical-align: top;\n",
       "    }\n",
       "\n",
       "    .dataframe thead th {\n",
       "        text-align: right;\n",
       "    }\n",
       "</style>\n",
       "<table border=\"1\" class=\"dataframe\">\n",
       "  <thead>\n",
       "    <tr style=\"text-align: right;\">\n",
       "      <th></th>\n",
       "      <th>freqs</th>\n",
       "    </tr>\n",
       "    <tr>\n",
       "      <th>birthwgt_lb</th>\n",
       "      <th></th>\n",
       "    </tr>\n",
       "  </thead>\n",
       "  <tbody>\n",
       "    <tr>\n",
       "      <th>0.0</th>\n",
       "      <td>8</td>\n",
       "    </tr>\n",
       "    <tr>\n",
       "      <th>1.0</th>\n",
       "      <td>40</td>\n",
       "    </tr>\n",
       "    <tr>\n",
       "      <th>2.0</th>\n",
       "      <td>53</td>\n",
       "    </tr>\n",
       "    <tr>\n",
       "      <th>3.0</th>\n",
       "      <td>98</td>\n",
       "    </tr>\n",
       "    <tr>\n",
       "      <th>4.0</th>\n",
       "      <td>229</td>\n",
       "    </tr>\n",
       "    <tr>\n",
       "      <th>5.0</th>\n",
       "      <td>697</td>\n",
       "    </tr>\n",
       "    <tr>\n",
       "      <th>6.0</th>\n",
       "      <td>2223</td>\n",
       "    </tr>\n",
       "    <tr>\n",
       "      <th>7.0</th>\n",
       "      <td>3049</td>\n",
       "    </tr>\n",
       "    <tr>\n",
       "      <th>8.0</th>\n",
       "      <td>1889</td>\n",
       "    </tr>\n",
       "    <tr>\n",
       "      <th>9.0</th>\n",
       "      <td>623</td>\n",
       "    </tr>\n",
       "    <tr>\n",
       "      <th>10.0</th>\n",
       "      <td>132</td>\n",
       "    </tr>\n",
       "    <tr>\n",
       "      <th>11.0</th>\n",
       "      <td>26</td>\n",
       "    </tr>\n",
       "    <tr>\n",
       "      <th>12.0</th>\n",
       "      <td>10</td>\n",
       "    </tr>\n",
       "    <tr>\n",
       "      <th>13.0</th>\n",
       "      <td>3</td>\n",
       "    </tr>\n",
       "    <tr>\n",
       "      <th>14.0</th>\n",
       "      <td>3</td>\n",
       "    </tr>\n",
       "    <tr>\n",
       "      <th>15.0</th>\n",
       "      <td>1</td>\n",
       "    </tr>\n",
       "  </tbody>\n",
       "</table>\n",
       "</div>"
      ],
      "text/plain": [
       "birthwgt_lb\n",
       "0.0        8\n",
       "1.0       40\n",
       "2.0       53\n",
       "3.0       98\n",
       "4.0      229\n",
       "5.0      697\n",
       "6.0     2223\n",
       "7.0     3049\n",
       "8.0     1889\n",
       "9.0      623\n",
       "10.0     132\n",
       "11.0      26\n",
       "12.0      10\n",
       "13.0       3\n",
       "14.0       3\n",
       "15.0       1\n",
       "Name: birthwgt_lb, dtype: int64"
      ]
     },
     "execution_count": 16,
     "metadata": {},
     "output_type": "execute_result"
    }
   ],
   "source": [
    "ftab_lb"
   ]
  },
  {
   "cell_type": "code",
   "execution_count": 17,
   "id": "dfcfe338-4256-4936-ab9d-aa4a8be44ab4",
   "metadata": {},
   "outputs": [
    {
     "data": {
      "image/png": "[encoded data removed]",
      "text/plain": [
       "<Figure size 450x262.5 with 1 Axes>"
      ]
     },
     "metadata": {},
     "output_type": "display_data"
    }
   ],
   "source": [
    "ftab_lb.bar()\n",
    "decorate(xlabel=\"Pounds\", ylabel='Frequency')"
   ]
  },
  {
   "cell_type": "markdown",
   "id": "ca84f243-8194-4308-b8ae-7d6213535d2b",
   "metadata": {},
   "source": [
    "- The above shows a bell curve which indicates a normal distribution or Gaussian Distribution.\n",
    "- we can also find the measure of central tendency like mode using `idxmax` method or `mode` methods."
   ]
  },
  {
   "cell_type": "code",
   "execution_count": 18,
   "id": "0de2877d-46d9-4491-b05c-cf02be440d08",
   "metadata": {},
   "outputs": [
    {
     "data": {
      "text/plain": [
       "np.float64(7.0)"
      ]
     },
     "execution_count": 18,
     "metadata": {},
     "output_type": "execute_result"
    }
   ],
   "source": [
    "ftab_lb.idxmax()"
   ]
  },
  {
   "cell_type": "code",
   "execution_count": 19,
   "id": "f6f3ed7c-2489-42fc-95a2-e2bcce7a1136",
   "metadata": {},
   "outputs": [
    {
     "data": {
      "text/plain": [
       "np.float64(7.0)"
      ]
     },
     "execution_count": 19,
     "metadata": {},
     "output_type": "execute_result"
    }
   ],
   "source": [
    "ftab_lb.mode()"
   ]
  },
  {
   "cell_type": "markdown",
   "id": "c52179fe-54bb-4c16-a7bc-cb56b91bbd51",
   "metadata": {},
   "source": [
    "### Example 2:\n",
    "- We can also plot other columns such as `birthwgt_oz` which shows the weight in ounces."
   ]
  },
  {
   "cell_type": "code",
   "execution_count": 20,
   "id": "5aa9795f-4a56-4771-bc1e-ed05ffbc4507",
   "metadata": {},
   "outputs": [
    {
     "data": {
      "image/png": "[encoded data removed]",
      "text/plain": [
       "<Figure size 450x262.5 with 1 Axes>"
      ]
     },
     "metadata": {},
     "output_type": "display_data"
    }
   ],
   "source": [
    "ftab_oz = FreqTab.from_seq(live[\"birthwgt_oz\"], name=\"birthwgt_oz\")\n",
    "ftab_oz.bar()\n",
    "decorate(xlabel=\"Ounces\", ylabel=\"Frequency\")"
   ]
  },
  {
   "cell_type": "markdown",
   "id": "8b6a6f69-e25c-4a4a-8068-8b4711130d7f",
   "metadata": {},
   "source": [
    "### Example 3:\n",
    "Plotting the mother's age at the time of birth from `agepreg` column."
   ]
  },
  {
   "cell_type": "code",
   "execution_count": 21,
   "id": "e2a2aeb8-cad8-4a09-bda6-0af51456b8c1",
   "metadata": {},
   "outputs": [
    {
     "data": {
      "image/png": "[encoded data removed]",
      "text/plain": [
       "<Figure size 450x262.5 with 1 Axes>"
      ]
     },
     "metadata": {},
     "output_type": "display_data"
    }
   ],
   "source": [
    "ftab_age = FreqTab.from_seq(live[\"agepreg\"], name=\"agepreg\")\n",
    "ftab_age.bar(width=0.1) # adjust the width of the bars\n",
    "decorate(xlabel=\"Age\", ylabel=\"Frequency\")"
   ]
  },
  {
   "cell_type": "markdown",
   "id": "ec2b6c75-8a46-4e01-89aa-cd07119b2cff",
   "metadata": {},
   "source": [
    "- As we can see the distribution of data is rougly bell curved (**Symmetric**), it is **right-skewed** or **Positively-skewed** which means that it's tail is extending towards the right to the <u>larger values of x variate</u>."
   ]
  },
  {
   "cell_type": "markdown",
   "id": "db63f422-7092-4b49-939e-90dd156baa0d",
   "metadata": {},
   "source": [
    "### Example 4:\n",
    "Frequency table of pregnancy length `prglngth` (in weeks)."
   ]
  },
  {
   "cell_type": "code",
   "execution_count": 22,
   "id": "3097849b-1994-458b-915d-f0967a4cfc3c",
   "metadata": {},
   "outputs": [
    {
     "data": {
      "image/png": "[encoded data removed]",
      "text/plain": [
       "<Figure size 450x262.5 with 1 Axes>"
      ]
     },
     "metadata": {},
     "output_type": "display_data"
    }
   ],
   "source": [
    "ftab_length = FreqTab.from_seq(live[\"prglngth\"], name=\"prglngth\")\n",
    "ftab_length.bar()\n",
    "# xlim sets the limit to the range from 20 to 50 weeks to avoid errors as there\n",
    "# are NaN values.\n",
    "decorate(xlabel=\"Weeks\", ylabel=\"Frequency\", xlim=[20, 50])"
   ]
  },
  {
   "cell_type": "code",
   "execution_count": 23,
   "id": "346499aa-2146-4717-a118-0dfd8e751f73",
   "metadata": {},
   "outputs": [
    {
     "data": {
      "text/plain": [
       "np.int64(39)"
      ]
     },
     "execution_count": 23,
     "metadata": {},
     "output_type": "execute_result"
    }
   ],
   "source": [
    "ftab_length.mode()"
   ]
  },
  {
   "cell_type": "markdown",
   "id": "6c07a0b9-e9a8-4df9-b25e-d8464121314f",
   "metadata": {},
   "source": [
    "## 2.3 Outliers\n",
    "Outliers are extreme values or scores which affect the mean directly and that might be measurement or recording errors, or might be accurate reports of rare events."
   ]
  },
  {
   "cell_type": "markdown",
   "id": "1cbbe85f-9e3a-42f3-98ce-689dd2418bd1",
   "metadata": {},
   "source": [
    "### Identifying outliers"
   ]
  },
  {
   "cell_type": "code",
   "execution_count": 24,
   "id": "80c92ae6-5f2c-4822-8acf-db1e642dc75c",
   "metadata": {},
   "outputs": [],
   "source": [
    "# gives the 10 top smallest values (outliers)\n",
    "def smallest(ftab, n=10):\n",
    "    return ftab[:n]"
   ]
  },
  {
   "cell_type": "code",
   "execution_count": 25,
   "id": "68714582-04fe-4cb2-9d1f-47e3a0099fb1",
   "metadata": {},
   "outputs": [
    {
     "data": {
      "text/plain": [
       "prglngth\n",
       "0     1\n",
       "4     1\n",
       "9     1\n",
       "13    1\n",
       "17    2\n",
       "18    1\n",
       "19    1\n",
       "20    1\n",
       "21    2\n",
       "22    7\n",
       "Name: prglngth, dtype: int64"
      ]
     },
     "execution_count": 25,
     "metadata": {},
     "output_type": "execute_result"
    }
   ],
   "source": [
    "smallest(ftab_length)"
   ]
  },
  {
   "cell_type": "code",
   "execution_count": 26,
   "id": "4b4f1f07-c7ca-477a-8e21-2a4eb2a71554",
   "metadata": {},
   "outputs": [
    {
     "data": {
      "text/plain": [
       "prglngth\n",
       "40    1116\n",
       "41     587\n",
       "42     328\n",
       "43     148\n",
       "44      46\n",
       "45      10\n",
       "46       1\n",
       "47       1\n",
       "48       7\n",
       "50       2\n",
       "Name: prglngth, dtype: int64"
      ]
     },
     "execution_count": 26,
     "metadata": {},
     "output_type": "execute_result"
    }
   ],
   "source": [
    "# gives the largest outliers from the end of frequency table\n",
    "def largest(ftab, n=10):\n",
    "    return ftab[-n:]\n",
    "largest(ftab_length)"
   ]
  },
  {
   "cell_type": "markdown",
   "id": "6a237c81-335e-462b-ad0d-6a0285e6986f",
   "metadata": {},
   "source": [
    "## 2.4 First Babies\n",
    "The question is being asked here is that whether first babies tend to be earlier or later than other babies."
   ]
  },
  {
   "cell_type": "code",
   "execution_count": 27,
   "id": "2c9b8fa3-9ad9-4639-96b9-8dddaf1a239d",
   "metadata": {},
   "outputs": [],
   "source": [
    "firsts = live.query(\"birthord == 1\")\n",
    "others = live.query(\"birthord != 1\")"
   ]
  },
  {
   "cell_type": "code",
   "execution_count": 31,
   "id": "b75238ec-3892-4b9f-8c0b-497e9b66c28b",
   "metadata": {},
   "outputs": [],
   "source": [
    "ftab_first = FreqTab.from_seq(firsts[\"prglngth\"], name=\"firsts\")\n",
    "ftab_others = FreqTab.from_seq(others[\"prglngth\"], name=\"others\")"
   ]
  },
  {
   "cell_type": "markdown",
   "id": "d641f249-fccc-4d7e-9ade-fe9393755f85",
   "metadata": {},
   "source": [
    "- Function for plotting two frequency tables side by side"
   ]
  },
  {
   "cell_type": "code",
   "execution_count": 32,
   "id": "ee86e113-7b3d-4188-a08f-22a7adcdbedf",
   "metadata": {},
   "outputs": [],
   "source": [
    "def two_bar_plots(ftab1, ftab2, width=0.45):\n",
    "    ftab1.bar(align=\"edge\", width=-width)\n",
    "    ftab2.bar(align=\"edge\", width=width, alpha=0.5)"
   ]
  },
  {
   "cell_type": "code",
   "execution_count": 33,
   "id": "0582ee95-5a5a-497e-9378-153e66efa2ad",
   "metadata": {},
   "outputs": [
    {
     "data": {
      "image/png": "[encoded data removed]",
      "text/plain": [
       "<Figure size 450x262.5 with 1 Axes>"
      ]
     },
     "metadata": {},
     "output_type": "display_data"
    }
   ],
   "source": [
    "two_bar_plots(ftab_first, ftab_others)\n",
    "decorate(xlabel=\"weeks\", ylabel=\"Frequency\", xlim=[20, 50])"
   ]
  },
  {
   "cell_type": "code",
   "execution_count": 34,
   "id": "cc389646-c83e-489a-a5dd-7e255f156d73",
   "metadata": {},
   "outputs": [
    {
     "data": {
      "text/plain": [
       "(np.int64(4413), np.int64(4735))"
      ]
     },
     "execution_count": 34,
     "metadata": {},
     "output_type": "execute_result"
    }
   ],
   "source": [
    "firsts[\"prglngth\"].count(), others[\"prglngth\"].count()"
   ]
  },
  {
   "cell_type": "markdown",
   "id": "b77de04d-148f-43e4-b434-13df33497cb1",
   "metadata": {},
   "source": [
    "- On counting mean, it looks like first babies are a a little bit later on average. "
   ]
  },
  {
   "cell_type": "code",
   "execution_count": 35,
   "id": "029a6802-f614-4557-9c5b-a8cda6292728",
   "metadata": {},
   "outputs": [
    {
     "data": {
      "text/plain": [
       "(np.float64(38.60095173351461), np.float64(38.52291446673706))"
      ]
     },
     "execution_count": 35,
     "metadata": {},
     "output_type": "execute_result"
    }
   ],
   "source": [
    "first_mean = firsts[\"prglngth\"].mean()\n",
    "other_mean = others[\"prglngth\"].mean()\n",
    "first_mean, other_mean"
   ]
  },
  {
   "cell_type": "markdown",
   "id": "517b1aa1-7d93-44ff-b4e3-d3fa33d4e842",
   "metadata": {},
   "source": [
    "- Here, the difference of births is only 0.078 weeks which is equivalent to 13 hours"
   ]
  },
  {
   "cell_type": "code",
   "execution_count": 36,
   "id": "1b5ceabe-21ff-4cbb-aaa6-45a3997a9b81",
   "metadata": {},
   "outputs": [
    {
     "data": {
      "text/plain": [
       "(np.float64(0.07803726677754952), np.float64(13.11026081862832))"
      ]
     },
     "execution_count": 36,
     "metadata": {},
     "output_type": "execute_result"
    }
   ],
   "source": [
    "diff = first_mean - other_mean\n",
    "diff, diff * 7 * 24"
   ]
  },
  {
   "cell_type": "markdown",
   "id": "0f3b0830-963a-4a4f-901b-bfc056d7ab9b",
   "metadata": {},
   "source": [
    "## 2.5 Effect Size\n",
    "A difference like above is known as \"effect\". "
   ]
  },
  {
   "cell_type": "markdown",
   "id": "f1be54a6-61bc-4e9d-a587-a72d3685cd8c",
   "metadata": {},
   "source": [
    "- Reporting difference: here, the first pregnancies are 0.2% longer than others, on average."
   ]
  },
  {
   "cell_type": "code",
   "execution_count": 37,
   "id": "e60d9947-9c1e-42bd-b160-e6b012c290e7",
   "metadata": {},
   "outputs": [
    {
     "data": {
      "text/plain": [
       "np.float64(0.20237586646738304)"
      ]
     },
     "execution_count": 37,
     "metadata": {},
     "output_type": "execute_result"
    }
   ],
   "source": [
    "diff / live[\"prglngth\"].mean() * 100"
   ]
  },
  {
   "cell_type": "markdown",
   "id": "34df601d-9b19-4c8e-aaf8-e49d1e13b0a6",
   "metadata": {},
   "source": [
    "- Reporting in **Standardized** effect size, which is a intended to quantify the size of an effect in a way that is comparable between different quantities and different groups.\n",
    "- Standardizing means we express the difference as a multiple of the standard deviation."
   ]
  },
  {
   "cell_type": "code",
   "execution_count": 38,
   "id": "b4441a67-258c-49d2-a8a1-f82b88365419",
   "metadata": {},
   "outputs": [
    {
     "data": {
      "text/plain": [
       "np.float64(0.028877623375210403)"
      ]
     },
     "execution_count": 38,
     "metadata": {},
     "output_type": "execute_result"
    }
   ],
   "source": [
    "diff / live[\"prglngth\"].std()"
   ]
  },
  {
   "cell_type": "markdown",
   "id": "509c2150-4281-4070-b27e-51e7d0d83ce0",
   "metadata": {},
   "source": [
    "### Pooled standard deviation\n",
    "It is the square root of pooled variane, which is the weighted sum of the variances in the groups."
   ]
  },
  {
   "cell_type": "code",
   "execution_count": 39,
   "id": "77e1c66e-1942-4a62-9903-8ad652929bb1",
   "metadata": {},
   "outputs": [],
   "source": [
    "group1, group2 = firsts[\"prglngth\"], others[\"prglngth\"]"
   ]
  },
  {
   "cell_type": "code",
   "execution_count": 40,
   "id": "ebf42962-2829-444a-b69a-312c2a037372",
   "metadata": {},
   "outputs": [],
   "source": [
    "# calculate variance of both groups\n",
    "v1, v2 = group1.var(), group2.var()"
   ]
  },
  {
   "cell_type": "code",
   "execution_count": 41,
   "id": "f63cbc12-2dde-4dbf-a26b-611e97befb4e",
   "metadata": {},
   "outputs": [],
   "source": [
    "# find the number of values in each group\n",
    "n1, n2 = group1.count(), group2.count()\n",
    "pooled_var = (n1 * v1 + n2 * v2) / (n1 + n2)"
   ]
  },
  {
   "cell_type": "code",
   "execution_count": 42,
   "id": "409a1161-db41-4376-a30a-5ebb89388e73",
   "metadata": {},
   "outputs": [
    {
     "data": {
      "text/plain": [
       "np.float64(2.7022108144953862)"
      ]
     },
     "execution_count": 42,
     "metadata": {},
     "output_type": "execute_result"
    }
   ],
   "source": [
    "# pooled deviation\n",
    "np.sqrt(pooled_var)"
   ]
  },
  {
   "cell_type": "markdown",
   "id": "cc83804b-9d00-4f2a-aee5-2315d81bf2e0",
   "metadata": {},
   "source": [
    "### Cohen's effect\n",
    "A Standardized effect size that uses pooled standard deviation is called Coahen's effect size."
   ]
  },
  {
   "cell_type": "code",
   "execution_count": 43,
   "id": "c60e1b0c-418c-4a68-b790-3584a5de4147",
   "metadata": {},
   "outputs": [],
   "source": [
    "# calculate cohen's effects size"
   ]
  },
  {
   "cell_type": "code",
   "execution_count": 45,
   "id": "fec38ead-c070-4b84-abb5-ebacef83f5b3",
   "metadata": {},
   "outputs": [],
   "source": [
    "def cohen_effect_size(group1, group2):\n",
    "    diff = group1.mean() - group2.mean() # calculate difference\n",
    "    n1, n2 = group1.count(), group2.count() # calculate number of observations\n",
    "    v1, v2 = group1.var(), group2.var() # calculate variance\n",
    "\n",
    "    # calculate pooled_variance\n",
    "    pooled_variance = (n1*v1 + n2*v2) / (n1 + n2)\n",
    "\n",
    "    return diff/np.sqrt(pooled_variance)"
   ]
  },
  {
   "cell_type": "code",
   "execution_count": 46,
   "id": "6b4d993f-53ab-4ab0-a127-296fca9b6076",
   "metadata": {},
   "outputs": [
    {
     "data": {
      "text/plain": [
       "np.float64(0.028879044654449834)"
      ]
     },
     "execution_count": 46,
     "metadata": {},
     "output_type": "execute_result"
    }
   ],
   "source": [
    "cohen_effect_size(firsts[\"prglngth\"], others[\"prglngth\"])"
   ]
  }
 ],
 "metadata": {
  "kernelspec": {
   "display_name": "Python 3 (ipykernel)",
   "language": "python",
   "name": "python3"
  },
  "language_info": {
   "codemirror_mode": {
    "name": "ipython",
    "version": 3
   },
   "file_extension": ".py",
   "mimetype": "text/x-python",
   "name": "python",
   "nbconvert_exporter": "python",
   "pygments_lexer": "ipython3",
   "version": "3.13.1"
  }
 },
 "nbformat": 4,
 "nbformat_minor": 5
}
